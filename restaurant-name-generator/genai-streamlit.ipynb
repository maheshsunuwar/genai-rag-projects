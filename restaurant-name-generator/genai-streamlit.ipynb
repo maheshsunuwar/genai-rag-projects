{
 "cells": [
  {
   "cell_type": "markdown",
   "id": "970e374c-5e07-42b3-a456-293ecad9adde",
   "metadata": {},
   "source": [
    "## Imports"
   ]
  },
  {
   "cell_type": "code",
   "execution_count": 34,
   "id": "88236788-7b27-4e64-9542-2fb0ac54b127",
   "metadata": {
    "canvas": {
     "comments": [],
     "componentType": "CodeCell",
     "copiedOriginId": null,
     "diskcache": false,
     "headerColor": "transparent",
     "id": "1fe762e4-a228-4682-90fe-ad485f31a90b",
     "isComponent": false,
     "name": "",
     "parents": []
    }
   },
   "outputs": [],
   "source": [
    "import os\n",
    "import pandas as pd\n",
    "import numpy as np\n",
    "\n",
    "# import streamlit as st\n",
    "#langchain imports\n",
    "from langchain import HuggingFaceTextGenInference, HuggingFaceHub, HuggingFacePipeline\n",
    "from langchain_community.chat_models import ChatOllama\n",
    "from langchain_core.prompts import ChatPromptTemplate\n",
    "from langchain_core.output_parsers import StrOutputParser\n",
    "\n",
    "from ollama import chat"
   ]
  },
  {
   "cell_type": "code",
   "execution_count": 3,
   "id": "226e65f8-3628-42af-ad5a-6a9065698a6f",
   "metadata": {
    "canvas": {
     "comments": [],
     "componentType": "CodeCell",
     "copiedOriginId": null,
     "diskcache": false,
     "headerColor": "transparent",
     "id": "61ca1aa1-8fbf-4722-b41a-d943d2877047",
     "isComponent": false,
     "name": "",
     "parents": []
    }
   },
   "outputs": [],
   "source": [
    "# !pip install ollama"
   ]
  },
  {
   "cell_type": "code",
   "execution_count": 144,
   "id": "b257ee12-a4d8-4fba-92c7-dd034ab17c3a",
   "metadata": {
    "canvas": {
     "comments": [],
     "componentType": "CodeCell",
     "copiedOriginId": null,
     "diskcache": false,
     "headerColor": "transparent",
     "id": "e1bc7709-1670-4f6e-bba5-99b109ad4f6a",
     "isComponent": false,
     "name": "",
     "parents": []
    }
   },
   "outputs": [],
   "source": [
    "messages = [\n",
    "    {\n",
    "        'role': 'user',\n",
    "        'content': 'why is the sky blue?'\n",
    "    }\n",
    "]"
   ]
  },
  {
   "cell_type": "code",
   "execution_count": 5,
   "id": "7760fe87-2b06-4ab0-b77d-ed0fa22e575f",
   "metadata": {},
   "outputs": [
    {
     "name": "stdout",
     "output_type": "stream",
     "text": [
      "What a great question!\n",
      "\n",
      "The sky appears blue to our eyes because of a phenomenon called Rayleigh scattering, which is named after the British physicist Lord Rayleigh, who first described it in the late 19th century.\n",
      "\n",
      "Here's what happens:\n",
      "\n",
      "1. When sunlight enters Earth's atmosphere, it encounters tiny molecules of gases like nitrogen (N2) and oxygen (O2). These molecules are much smaller than the wavelength of light.\n",
      "2. The shorter wavelengths of light, such as blue and violet, are scattered more efficiently by these small molecules than the longer wavelengths, like red and orange.\n",
      "3. As a result, the blue and violet light is distributed throughout the atmosphere in all directions, reaching our eyes from all parts of the sky.\n",
      "4. Meanwhile, the longer wavelengths of light, like red and orange, continue to travel in more direct paths to our eyes, with less scattering, giving them a more direct route.\n",
      "\n",
      "This is why the sky appears blue during the daytime: our eyes are seeing the scattered blue and violet light from all directions, while the longer wavelengths have traveled shorter distances and aren't as prominent. The exact shade of blue can vary depending on atmospheric conditions, like pollution levels, dust particles, and water vapor, but the basic principle remains the same.\n",
      "\n",
      "It's worth noting that the sky can appear different colors at other times:\n",
      "\n",
      "* During sunrise and sunset, when the sun is lower in the sky, the light has to travel longer distances through more of the atmosphere, which scatters the shorter wavelengths even more, making the sky appear more red or orange.\n",
      "* At night, the sky appears dark because there is no direct sunlight reaching our eyes. The stars we see are actually distant sources of light that are being reflected by particles in the atmosphere.\n",
      "\n",
      "So, to summarize: the blue color of the sky is a result of the scattering of shorter wavelengths of light (blue and violet) by tiny molecules in the Earth's atmosphere, while longer wavelengths (red and orange) travel more directly to our eyes."
     ]
    }
   ],
   "source": [
    "for part in chat('llama3', messages=messages, stream=True):\n",
    "    print(part['message']['content'], end='', flush=True)"
   ]
  },
  {
   "cell_type": "code",
   "execution_count": 8,
   "id": "23c36537-5388-42a4-b932-eceec19ab335",
   "metadata": {},
   "outputs": [],
   "source": [
    "from openai import OpenAI"
   ]
  },
  {
   "cell_type": "code",
   "execution_count": 14,
   "id": "880ebe65-7eda-40e1-b702-c61f17932bf6",
   "metadata": {},
   "outputs": [
    {
     "data": {
      "text/plain": [
       "\u001b[0;31mInit signature:\u001b[0m\n",
       "\u001b[0mOpenAI\u001b[0m\u001b[0;34m(\u001b[0m\u001b[0;34m\u001b[0m\n",
       "\u001b[0;34m\u001b[0m    \u001b[0;34m*\u001b[0m\u001b[0;34m,\u001b[0m\u001b[0;34m\u001b[0m\n",
       "\u001b[0;34m\u001b[0m    \u001b[0mapi_key\u001b[0m\u001b[0;34m:\u001b[0m \u001b[0;34m'str | None'\u001b[0m \u001b[0;34m=\u001b[0m \u001b[0;32mNone\u001b[0m\u001b[0;34m,\u001b[0m\u001b[0;34m\u001b[0m\n",
       "\u001b[0;34m\u001b[0m    \u001b[0morganization\u001b[0m\u001b[0;34m:\u001b[0m \u001b[0;34m'str | None'\u001b[0m \u001b[0;34m=\u001b[0m \u001b[0;32mNone\u001b[0m\u001b[0;34m,\u001b[0m\u001b[0;34m\u001b[0m\n",
       "\u001b[0;34m\u001b[0m    \u001b[0mproject\u001b[0m\u001b[0;34m:\u001b[0m \u001b[0;34m'str | None'\u001b[0m \u001b[0;34m=\u001b[0m \u001b[0;32mNone\u001b[0m\u001b[0;34m,\u001b[0m\u001b[0;34m\u001b[0m\n",
       "\u001b[0;34m\u001b[0m    \u001b[0mbase_url\u001b[0m\u001b[0;34m:\u001b[0m \u001b[0;34m'str | httpx.URL | None'\u001b[0m \u001b[0;34m=\u001b[0m \u001b[0;32mNone\u001b[0m\u001b[0;34m,\u001b[0m\u001b[0;34m\u001b[0m\n",
       "\u001b[0;34m\u001b[0m    \u001b[0mtimeout\u001b[0m\u001b[0;34m:\u001b[0m \u001b[0;34m'Union[float, Timeout, None, NotGiven]'\u001b[0m \u001b[0;34m=\u001b[0m \u001b[0mNOT_GIVEN\u001b[0m\u001b[0;34m,\u001b[0m\u001b[0;34m\u001b[0m\n",
       "\u001b[0;34m\u001b[0m    \u001b[0mmax_retries\u001b[0m\u001b[0;34m:\u001b[0m \u001b[0;34m'int'\u001b[0m \u001b[0;34m=\u001b[0m \u001b[0;36m2\u001b[0m\u001b[0;34m,\u001b[0m\u001b[0;34m\u001b[0m\n",
       "\u001b[0;34m\u001b[0m    \u001b[0mdefault_headers\u001b[0m\u001b[0;34m:\u001b[0m \u001b[0;34m'Mapping[str, str] | None'\u001b[0m \u001b[0;34m=\u001b[0m \u001b[0;32mNone\u001b[0m\u001b[0;34m,\u001b[0m\u001b[0;34m\u001b[0m\n",
       "\u001b[0;34m\u001b[0m    \u001b[0mdefault_query\u001b[0m\u001b[0;34m:\u001b[0m \u001b[0;34m'Mapping[str, object] | None'\u001b[0m \u001b[0;34m=\u001b[0m \u001b[0;32mNone\u001b[0m\u001b[0;34m,\u001b[0m\u001b[0;34m\u001b[0m\n",
       "\u001b[0;34m\u001b[0m    \u001b[0mhttp_client\u001b[0m\u001b[0;34m:\u001b[0m \u001b[0;34m'httpx.Client | None'\u001b[0m \u001b[0;34m=\u001b[0m \u001b[0;32mNone\u001b[0m\u001b[0;34m,\u001b[0m\u001b[0;34m\u001b[0m\n",
       "\u001b[0;34m\u001b[0m    \u001b[0m_strict_response_validation\u001b[0m\u001b[0;34m:\u001b[0m \u001b[0;34m'bool'\u001b[0m \u001b[0;34m=\u001b[0m \u001b[0;32mFalse\u001b[0m\u001b[0;34m,\u001b[0m\u001b[0;34m\u001b[0m\n",
       "\u001b[0;34m\u001b[0m\u001b[0;34m)\u001b[0m \u001b[0;34m->\u001b[0m \u001b[0;34m'None'\u001b[0m\u001b[0;34m\u001b[0m\u001b[0;34m\u001b[0m\u001b[0m\n",
       "\u001b[0;31mDocstring:\u001b[0m     \n",
       "Abstract base class for generic types.\n",
       "\n",
       "A generic type is typically declared by inheriting from\n",
       "this class parameterized with one or more type variables.\n",
       "For example, a generic mapping type might be defined as::\n",
       "\n",
       "  class Mapping(Generic[KT, VT]):\n",
       "      def __getitem__(self, key: KT) -> VT:\n",
       "          ...\n",
       "      # Etc.\n",
       "\n",
       "This class can then be used as follows::\n",
       "\n",
       "  def lookup_name(mapping: Mapping[KT, VT], key: KT, default: VT) -> VT:\n",
       "      try:\n",
       "          return mapping[key]\n",
       "      except KeyError:\n",
       "          return default\n",
       "\u001b[0;31mInit docstring:\u001b[0m\n",
       "Construct a new synchronous openai client instance.\n",
       "\n",
       "This automatically infers the following arguments from their corresponding environment variables if they are not provided:\n",
       "- `api_key` from `OPENAI_API_KEY`\n",
       "- `organization` from `OPENAI_ORG_ID`\n",
       "- `project` from `OPENAI_PROJECT_ID`\n",
       "\u001b[0;31mFile:\u001b[0m           ~/miniforge3/lib/python3.10/site-packages/openai/__init__.py\n",
       "\u001b[0;31mType:\u001b[0m           type\n",
       "\u001b[0;31mSubclasses:\u001b[0m     AzureOpenAI, _ModuleClient\n"
      ]
     },
     "metadata": {},
     "output_type": "display_data"
    }
   ],
   "source": [
    "OpenAI?"
   ]
  },
  {
   "cell_type": "markdown",
   "id": "19d0a90e-dc58-4282-a2ff-03c244da3474",
   "metadata": {},
   "source": [
    "## Using OpenApi api"
   ]
  },
  {
   "cell_type": "code",
   "execution_count": 86,
   "id": "a92b08e7-ef02-4f11-a6bf-c1d80e9e38f2",
   "metadata": {},
   "outputs": [],
   "source": [
    "client = OpenAI(\n",
    "    base_url = 'http://localhost:11434/v1',\n",
    "    api_key='ollama', # required, but unused\n",
    ")"
   ]
  },
  {
   "cell_type": "code",
   "execution_count": 90,
   "id": "09297099-8f64-4ebb-a1b2-3f0a57a54c29",
   "metadata": {},
   "outputs": [
    {
     "name": "stdout",
     "output_type": "stream",
     "text": [
      "The 2020 World Series was played at Globe Life Field in Arlington, Texas.\n"
     ]
    }
   ],
   "source": [
    "response = client.chat.completions.create(\n",
    "  model=\"llama3\",\n",
    "  messages=[\n",
    "    {\"role\": \"system\", \"content\": \"You are a helpful assistant.\"},\n",
    "    {\"role\": \"user\", \"content\": \"Who won the world series in 2020?\"},\n",
    "    {\"role\": \"assistant\", \"content\": \"The LA Dodgers won in 2020.\"},\n",
    "    {\"role\": \"user\", \"content\": \"Where was it played?\"}\n",
    "  ]\n",
    ")\n",
    "print(response.choices[0].message.content)"
   ]
  },
  {
   "cell_type": "markdown",
   "id": "99384249-e873-4f71-894f-c551dca2c963",
   "metadata": {},
   "source": [
    "## Langchain"
   ]
  },
  {
   "cell_type": "code",
   "execution_count": 91,
   "id": "64c2840f-e1c2-4e11-8344-47fa9e0b701d",
   "metadata": {},
   "outputs": [],
   "source": [
    "from langchain.llms import Ollama\n",
    "from langchain.callbacks.manager import CallbackManager\n",
    "from langchain.callbacks.streaming_stdout import StreamingStdOutCallbackHandler"
   ]
  },
  {
   "cell_type": "code",
   "execution_count": 22,
   "id": "59ab6061-f606-4260-8330-276e9504629b",
   "metadata": {},
   "outputs": [],
   "source": [
    "llm = Ollama(\n",
    "    model='llama3',\n",
    "    callback_manager=CallbackManager([StreamingStdOutCallbackHandler])\n",
    ")"
   ]
  },
  {
   "cell_type": "code",
   "execution_count": 39,
   "id": "4709dd40-e52c-435a-9248-03f193234197",
   "metadata": {},
   "outputs": [
    {
     "name": "stdout",
     "output_type": "stream",
     "text": [
      "Here are five key points about Roman history:\n",
      "\n",
      "1. **The Founding of Rome**: According to legend, Rome was founded in 753 BC by Romulus and Remus, two brothers who were abandoned as infants and suckled by a she-wolf. This mythological founding date is still celebrated today on April 21st, the Feast of Romulus and Remus.\n",
      "\n",
      "2. **The Roman Republic**: From its founding until 27 BC, Rome was a republic governed by a system of elected representatives and senators. The Roman Republic expanded throughout Italy, conquered much of Europe and North Africa, and developed a complex system of laws and governance.\n",
      "\n",
      "3. **The Punic Wars**: Rome's greatest rival in the ancient Mediterranean was Carthage, a city-state in modern-day Tunisia. Three wars between Rome and Carthage (264-146 BC) saw the rise of legendary Roman generals like Hannibal and Scipio Africanus, and ultimately led to the destruction of Carthage and the dominance of Rome.\n",
      "\n",
      "4. **The Roman Empire**: In 27 BC, the Roman Senate granted Augustus Caesar absolute power, marking the end of the Roman Republic and the beginning of the Roman Empire. The empire saw a period of relative peace and stability under the Pax Romana (Roman Peace), during which art, architecture, law, and governance flourished.\n",
      "\n",
      "5. **The Fall of Rome**: By the 3rd century AD, the Roman Empire was facing internal strife, economic decline, and external pressures from barbarian tribes. In 410 AD, the Visigoths sacked Rome, and in 476 AD, the Western Roman Emperor Romulus Augustus was deposed by the Germanic king Odoacer. This marked the end of the Western Roman Empire, although the Eastern Roman Empire (also known as the Byzantine Empire) continued until its capital Constantinople fell to the Ottoman Turks in 1453.\n",
      "\n",
      "These are just a few key points about Roman history – there's much more to explore!"
     ]
    }
   ],
   "source": [
    "# llm(\"Tell me 5 things about the Roman history\")\n",
    "for c in  llm.stream(\"Tell me 5 things about the Roman history\"):\n",
    "    print(c, end='', flush=True)"
   ]
  },
  {
   "cell_type": "markdown",
   "id": "80bab0cd-c3fe-4bdc-9738-5fd6999bd629",
   "metadata": {},
   "source": [
    "## Prompt Template"
   ]
  },
  {
   "cell_type": "code",
   "execution_count": 43,
   "id": "8231d761-b22d-4b54-8f27-08311bd8ce55",
   "metadata": {},
   "outputs": [],
   "source": [
    "from langchain_core.prompts import PromptTemplate"
   ]
  },
  {
   "cell_type": "code",
   "execution_count": 168,
   "id": "d6da7682-7661-4522-b107-1fb3e2c500f9",
   "metadata": {},
   "outputs": [
    {
     "data": {
      "text/plain": [
       "'I want to open a restaurant for Nepali food. Suggest me a fancy name for it, just one. Just the name and nothing else'"
      ]
     },
     "execution_count": 168,
     "metadata": {},
     "output_type": "execute_result"
    }
   ],
   "source": [
    "prompt_template_name = PromptTemplate(\n",
    "    input_variables=['cuisine'],\n",
    "    template='I want to open a restaurant for {cuisine} food. Suggest me a fancy name for it, just one. Just the name and nothing else'\n",
    ")\n",
    "\n",
    "prompt_template_name.format(cuisine=\"Nepali\")"
   ]
  },
  {
   "cell_type": "code",
   "execution_count": 169,
   "id": "d96a4c17-c05a-46f2-bfaf-7b8881c8d6cc",
   "metadata": {},
   "outputs": [],
   "source": [
    "name_chain = prompt_template_name | llm #| StrOutputParser()\n",
    "# chain1 = LLMChain(llm=llm, prompt=prompt_template_name, output_key=\"restaurant_name\")\n",
    "\n",
    "# for c in  name_chain.stream(\"Nepali\"):\n",
    "#     print(c, end='', flush=True)"
   ]
  },
  {
   "cell_type": "code",
   "execution_count": 170,
   "id": "bcd2f7d2-ac4b-4022-9cd8-29e19b38245e",
   "metadata": {},
   "outputs": [],
   "source": [
    "prompt_template_items = PromptTemplate(\n",
    "    input_variables=['restaurant_name'],\n",
    "    template=\"Suggest some 10 menu items for {restaurant_name}. Return the menu items as comma separated values and nothing else.\"\n",
    ")"
   ]
  },
  {
   "cell_type": "code",
   "execution_count": 171,
   "id": "6bd032ce-9a40-45f8-86b0-c3dbf5b064d9",
   "metadata": {},
   "outputs": [],
   "source": [
    "items_chain = prompt_template_items | llm #| StrOutputParser()\n",
    "\n",
    "# for c in  items_chain.stream(\"Himalayan Haat\"):\n",
    "#     print(c, end='', flush=True)"
   ]
  },
  {
   "cell_type": "markdown",
   "id": "ac72537f-ea32-4d72-8664-0282e6416df7",
   "metadata": {},
   "source": [
    "## Connect Prompts/Chains"
   ]
  },
  {
   "cell_type": "code",
   "execution_count": 188,
   "id": "faa8d3f9-6335-4a87-a8ac-08c2a0da3bc0",
   "metadata": {},
   "outputs": [],
   "source": [
    "from langchain_core.runnables import RunnablePassthrough, RunnableParallel\n",
    "from langchain.output_parsers import JsonOutputToolsParser"
   ]
  },
  {
   "cell_type": "code",
   "execution_count": 174,
   "id": "4e7fce55-79da-45c5-9b1e-cb90be007327",
   "metadata": {},
   "outputs": [
    {
     "name": "stdout",
     "output_type": "stream",
     "text": [
      "Kathmandu Momo Platter, Himalayan Lamb Chops with Garlic Naan, Royal Thali with Goat Curry, Darjeeling Tea-Infused Chicken Tikka Masala, Pokhara Fish Fry with Lemon Butter Sauce, Maharaja's Mixed Vegetable Biryani, Pashmina Steak with Soy-Ginger Glaze, Yatra's Nepalese Cheese Fritters, Gurkha's Ginger-Turmeric Soup, and Shakti's Saffron-Infused Rice Pilaf."
     ]
    },
    {
     "data": {
      "text/plain": [
       "'Momo Masala, Nepalese Lamb Curry, Chana Masala, Chicken Tikka Makhani, Vegetable Korma, Gorkhali Buffet, Thukpa Soup, Palpasa Tihar Rice Bowl, Everest Burger, Royal Thali'"
      ]
     },
     "execution_count": 174,
     "metadata": {},
     "output_type": "execute_result"
    }
   ],
   "source": [
    "chain = {'restaurant_name': name_chain} | items_chain | StrOutputParser()\n",
    "\n",
    "for c in  chain.stream(\"Nepali\"):\n",
    "    print(c, end='', flush=True)\n",
    "\n",
    "chain.invoke(\"Nepali\")"
   ]
  },
  {
   "cell_type": "markdown",
   "id": "1d556ce4-6a03-4fa2-94e5-536945607b1a",
   "metadata": {},
   "source": [
    "### Passing the variable through chains"
   ]
  },
  {
   "cell_type": "code",
   "execution_count": 191,
   "id": "91dc80b2-1541-44ed-b8ee-db5245eee1df",
   "metadata": {},
   "outputs": [
    {
     "name": "stdout",
     "output_type": "stream",
     "text": [
      "Restaurant Name: \"Bellavista\"\n",
      "Menu Items: Tuscan Shrimp Pasta, Pan-Seared Salmon, Vegan Quinoa Bowl, Margherita Pizza, Chicken Parmesan, Spaghetti Bolognese, Caprese Salad, Garlic Roasted Broccoli, Bruschetta Appetizer, Espresso Tiramisu\n"
     ]
    }
   ],
   "source": [
    "# Combine the chains\n",
    "combined_chain = RunnableParallel(\n",
    "    {\n",
    "        \"restaurant_name\": name_chain,\n",
    "        \"cuisine\": RunnablePassthrough(),\n",
    "    }\n",
    ").assign(\n",
    "    menu_items=lambda x: items_chain.invoke(x)\n",
    ")\n",
    "\n",
    "# Run the combined chain\n",
    "input_data = {\"cuisine\": \"Italian\"}\n",
    "result = combined_chain.invoke(input_data)\n",
    "\n",
    "# Print the results\n",
    "print(f\"Restaurant Name: {result['restaurant_name']}\")\n",
    "print(f\"Menu Items: {result['menu_items']}\")"
   ]
  },
  {
   "cell_type": "code",
   "execution_count": null,
   "id": "5fbdce15-3d99-4259-871f-84d9c822caee",
   "metadata": {},
   "outputs": [],
   "source": []
  },
  {
   "cell_type": "markdown",
   "id": "8da43ca6-2e68-4612-94e1-d9cce7b42bcb",
   "metadata": {},
   "source": [
    "## Restaurant Name Generator Project RAG project\n",
    "### ollama x langchain x streamlit x llm x RAG\n",
    "\n",
    "![](images/screenshot.png){width=5000}\n",
    "\n",
    "**Summary**\n",
    "1. Generate a name of a restaurant based on the `name` of the cuisine - name - Italan, Mexian, Nepali, Indian etc.\n",
    "2. Generate `10 menu items` based on the `name` of the restaurant\n",
    "\n",
    "**Setup**\n",
    "1. Ollama\n",
    "    * Download and install Ollama - [Ollama Website](https://ollama.com/)\n",
    "    * Download one of the models from the ollama and run it. I am using `llama3`\n",
    "```\n",
    "ollama pull llama3\n",
    "```\n",
    "run the ollama in background\n",
    "\n",
    "2. Install the requirements\n",
    "   ```\n",
    "   pip install -r requirements.txt\n",
    "   ```\n",
    "3. Run the streamlit app\n",
    "   ```\n",
    "   streamlit run app.py\n",
    "   ```\n",
    "\n",
    "Note: This project is inspired from the Codebasic youtube channel tutorial.\n"
   ]
  },
  {
   "cell_type": "code",
   "execution_count": null,
   "id": "67b874d6-326d-4a4b-b923-57f56ef12eb3",
   "metadata": {},
   "outputs": [],
   "source": []
  }
 ],
 "metadata": {
  "canvas": {
   "colorPalette": [
    "inherit",
    "inherit",
    "inherit",
    "inherit",
    "inherit",
    "inherit",
    "inherit",
    "inherit",
    "inherit",
    "inherit"
   ],
   "parameters": [],
   "version": "1.0"
  },
  "kernelspec": {
   "display_name": "Python 3 (ipykernel)",
   "language": "python",
   "name": "python3"
  },
  "language_info": {
   "codemirror_mode": {
    "name": "ipython",
    "version": 3
   },
   "file_extension": ".py",
   "mimetype": "text/x-python",
   "name": "python",
   "nbconvert_exporter": "python",
   "pygments_lexer": "ipython3",
   "version": "3.10.14"
  }
 },
 "nbformat": 4,
 "nbformat_minor": 5
}
